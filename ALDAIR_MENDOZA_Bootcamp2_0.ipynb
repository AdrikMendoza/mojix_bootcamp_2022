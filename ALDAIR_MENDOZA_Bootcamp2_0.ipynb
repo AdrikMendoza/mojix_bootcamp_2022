{
 "cells": [
  {
   "cell_type": "code",
   "execution_count": 1,
   "metadata": {
    "id": "tnLdHPlWgKFy"
   },
   "outputs": [],
   "source": [
    "import pandas as pd\n",
    "\n",
    "# from pandasql import sqldf\n",
    "df = pd.read_csv(\"https://covid.ourworldindata.org/data/owid-covid-data.csv\")"
   ]
  },
  {
   "cell_type": "markdown",
   "metadata": {
    "id": "WEQ5I6zglPQc"
   },
   "source": [
    "# Pandas"
   ]
  },
  {
   "cell_type": "markdown",
   "metadata": {
    "id": "OLJSqOVNo0DZ"
   },
   "source": [
    "## Exercise 1\n",
    "Using pandas\n",
    "Retrieve from df dataframe the number of cases and deaths in South America Countries.  (Hint: Use groupby by continent and location)"
   ]
  },
  {
   "cell_type": "code",
   "execution_count": 2,
   "metadata": {
    "colab": {
     "base_uri": "https://localhost:8080/",
     "height": 544
    },
    "id": "ubOBhEariO_1",
    "outputId": "dc60adee-cdca-4cf6-c3b0-49bb5670dcaf"
   },
   "outputs": [
    {
     "name": "stderr",
     "output_type": "stream",
     "text": [
      "/var/folders/4n/dll6nv094h5fm4m2lhzkmtd40000gn/T/ipykernel_20232/2789704145.py:4: FutureWarning: Indexing with multiple keys (implicitly converted to a tuple of keys) will be deprecated, use a list instead.\n",
      "  south_america.groupby(['continent','location'])['total_cases', 'total_deaths'].sum()\n"
     ]
    },
    {
     "data": {
      "text/html": [
       "<div>\n",
       "<style scoped>\n",
       "    .dataframe tbody tr th:only-of-type {\n",
       "        vertical-align: middle;\n",
       "    }\n",
       "\n",
       "    .dataframe tbody tr th {\n",
       "        vertical-align: top;\n",
       "    }\n",
       "\n",
       "    .dataframe thead th {\n",
       "        text-align: right;\n",
       "    }\n",
       "</style>\n",
       "<table border=\"1\" class=\"dataframe\">\n",
       "  <thead>\n",
       "    <tr style=\"text-align: right;\">\n",
       "      <th></th>\n",
       "      <th></th>\n",
       "      <th>total_cases</th>\n",
       "      <th>total_deaths</th>\n",
       "    </tr>\n",
       "    <tr>\n",
       "      <th>continent</th>\n",
       "      <th>location</th>\n",
       "      <th></th>\n",
       "      <th></th>\n",
       "    </tr>\n",
       "  </thead>\n",
       "  <tbody>\n",
       "    <tr>\n",
       "      <th rowspan=\"13\" valign=\"top\">South America</th>\n",
       "      <th>Argentina</th>\n",
       "      <td>3.630807e+09</td>\n",
       "      <td>64630285.0</td>\n",
       "    </tr>\n",
       "    <tr>\n",
       "      <th>Bolivia</th>\n",
       "      <td>3.749032e+08</td>\n",
       "      <td>11873269.0</td>\n",
       "    </tr>\n",
       "    <tr>\n",
       "      <th>Brazil</th>\n",
       "      <td>1.395944e+10</td>\n",
       "      <td>347938328.0</td>\n",
       "    </tr>\n",
       "    <tr>\n",
       "      <th>Chile</th>\n",
       "      <td>1.364413e+09</td>\n",
       "      <td>25528819.0</td>\n",
       "    </tr>\n",
       "    <tr>\n",
       "      <th>Colombia</th>\n",
       "      <td>2.931022e+09</td>\n",
       "      <td>71862614.0</td>\n",
       "    </tr>\n",
       "    <tr>\n",
       "      <th>Ecuador</th>\n",
       "      <td>3.765876e+08</td>\n",
       "      <td>19148633.0</td>\n",
       "    </tr>\n",
       "    <tr>\n",
       "      <th>Falkland Islands</th>\n",
       "      <td>2.148250e+05</td>\n",
       "      <td>0.0</td>\n",
       "    </tr>\n",
       "    <tr>\n",
       "      <th>Guyana</th>\n",
       "      <td>2.281292e+07</td>\n",
       "      <td>486959.0</td>\n",
       "    </tr>\n",
       "    <tr>\n",
       "      <th>Paraguay</th>\n",
       "      <td>2.811758e+08</td>\n",
       "      <td>8329126.0</td>\n",
       "    </tr>\n",
       "    <tr>\n",
       "      <th>Peru</th>\n",
       "      <td>1.627643e+09</td>\n",
       "      <td>126581537.0</td>\n",
       "    </tr>\n",
       "    <tr>\n",
       "      <th>Suriname</th>\n",
       "      <td>2.772818e+07</td>\n",
       "      <td>525299.0</td>\n",
       "    </tr>\n",
       "    <tr>\n",
       "      <th>Uruguay</th>\n",
       "      <td>2.952576e+08</td>\n",
       "      <td>3107275.0</td>\n",
       "    </tr>\n",
       "    <tr>\n",
       "      <th>Venezuela</th>\n",
       "      <td>2.299990e+08</td>\n",
       "      <td>2547196.0</td>\n",
       "    </tr>\n",
       "  </tbody>\n",
       "</table>\n",
       "</div>"
      ],
      "text/plain": [
       "                                 total_cases  total_deaths\n",
       "continent     location                                    \n",
       "South America Argentina         3.630807e+09    64630285.0\n",
       "              Bolivia           3.749032e+08    11873269.0\n",
       "              Brazil            1.395944e+10   347938328.0\n",
       "              Chile             1.364413e+09    25528819.0\n",
       "              Colombia          2.931022e+09    71862614.0\n",
       "              Ecuador           3.765876e+08    19148633.0\n",
       "              Falkland Islands  2.148250e+05           0.0\n",
       "              Guyana            2.281292e+07      486959.0\n",
       "              Paraguay          2.811758e+08     8329126.0\n",
       "              Peru              1.627643e+09   126581537.0\n",
       "              Suriname          2.772818e+07      525299.0\n",
       "              Uruguay           2.952576e+08     3107275.0\n",
       "              Venezuela         2.299990e+08     2547196.0"
      ]
     },
     "execution_count": 2,
     "metadata": {},
     "output_type": "execute_result"
    }
   ],
   "source": [
    "# Add your solution here\n",
    "# df[df[]].groupby()....\n",
    "south_america = df[df['continent'] == 'South America']\n",
    "south_america.groupby(['continent','location'])[['total_cases', 'total_deaths']].sum()"
   ]
  },
  {
   "cell_type": "markdown",
   "metadata": {
    "id": "eJX1MGKuDPmO"
   },
   "source": []
  },
  {
   "cell_type": "markdown",
   "metadata": {
    "id": "2EP5L7qajDQQ"
   },
   "source": [
    "## Exercise 2\n",
    "Using pandas\n",
    "\n",
    "1.  Create a new column called \"class_life_expectancy\" and classify life_expectancy column in 5 values:\n",
    "  - 1_less_than_55\n",
    "  - 2_between_55_and_64\n",
    "  - 3_between_65_and_74\n",
    "  - 4_equal_greater_than_75\n",
    "  - 5_other\n",
    "2.  Get the sum of new_deaths grouped by class_life_expectancy"
   ]
  },
  {
   "cell_type": "code",
   "execution_count": 3,
   "metadata": {
    "colab": {
     "base_uri": "https://localhost:8080/"
    },
    "id": "beFpnUh3aQxS",
    "outputId": "9aa2309b-9993-4c57-e42b-98045f0edca1"
   },
   "outputs": [
    {
     "data": {
      "text/plain": [
       "0    5_other\n",
       "1    5_other\n",
       "2    5_other\n",
       "3    5_other\n",
       "4    5_other\n",
       "Name: class_life_expectancy, dtype: object"
      ]
     },
     "execution_count": 3,
     "metadata": {},
     "output_type": "execute_result"
    }
   ],
   "source": [
    "df['class_life_expectancy'] = \"5_other\"\n",
    "df['class_life_expectancy'].head()"
   ]
  },
  {
   "cell_type": "code",
   "execution_count": 4,
   "metadata": {
    "id": "heET_R8jDDQx"
   },
   "outputs": [],
   "source": [
    "import numpy as np\n",
    "\n",
    "bins = [0, 55, 65, 74, np.inf]\n",
    "names = ['1_less_than_55', '2_between_55_and_64', '3_between_65_and_74', '4_equal_greater_than_75']\n",
    "df['class_life_expectancy'] = pd.cut(df['life_expectancy'], bins, labels=names)\n"
   ]
  },
  {
   "cell_type": "code",
   "execution_count": 5,
   "metadata": {
    "colab": {
     "base_uri": "https://localhost:8080/"
    },
    "id": "8U7tOGNxoemT",
    "outputId": "7cd2e2fa-80cb-4cd2-d341-dd81e44dc875"
   },
   "outputs": [
    {
     "data": {
      "text/plain": [
       "class_life_expectancy\n",
       "1_less_than_55                 4288.0\n",
       "2_between_55_and_64          148723.0\n",
       "3_between_65_and_74         7927356.0\n",
       "4_equal_greater_than_75     4728607.0\n",
       "5_other                    13948245.0\n",
       "Name: new_deaths, dtype: float64"
      ]
     },
     "execution_count": 5,
     "metadata": {},
     "output_type": "execute_result"
    }
   ],
   "source": [
    "df['class_life_expectancy'] = df['class_life_expectancy'].astype('str')\n",
    "df['class_life_expectancy'].replace(\"nan\", \"5_other\", inplace = True) \n",
    "df.groupby(['class_life_expectancy'])['new_deaths'].sum()"
   ]
  },
  {
   "cell_type": "markdown",
   "metadata": {
    "id": "ZH4wsWX4xaU2"
   },
   "source": [
    "## Exercise 3 (Inventory Discrepancy)\n",
    "\n",
    "\n",
    "- Remove dups\n",
    "- Aggregate\n",
    "- Merge 2 datasets"
   ]
  },
  {
   "cell_type": "code",
   "execution_count": 6,
   "metadata": {
    "id": "Q_ICteTezptX"
   },
   "outputs": [],
   "source": [
    "df_expected = pd.read_csv(\"https://storage.googleapis.com/mojix-devops-wildfire-bucket/analytics/bootcamp_2_0/Bootcamp_DataAnalysis_Expected.csv\", encoding=\"latin-1\")"
   ]
  },
  {
   "cell_type": "code",
   "execution_count": 7,
   "metadata": {
    "colab": {
     "base_uri": "https://localhost:8080/"
    },
    "id": "zUaYYOuHcgZq",
    "outputId": "c3bad7bb-4e1d-4c98-d529-89b3a50dbd03"
   },
   "outputs": [
    {
     "data": {
      "text/plain": [
       "Retail_Clearance                 0\n",
       "Retail_InTransitQTY              0\n",
       "Retail_Product_Color           314\n",
       "Retail_Product_Dimension         0\n",
       "Retail_Product_ExternalSKU       0\n",
       "Retail_Product_ImageURL          0\n",
       "Retail_Product_Level1            0\n",
       "Retail_Product_Level1Name        0\n",
       "Retail_Product_Level2            0\n",
       "Retail_Product_Level2Name        0\n",
       "Retail_Product_Level3            0\n",
       "Retail_Product_Level3Name        0\n",
       "Retail_Product_Level4            0\n",
       "Retail_Product_Level4Name        0\n",
       "Retail_Product_Level5            0\n",
       "Retail_Product_Level5Name        0\n",
       "Retail_Product_Manufacturer      0\n",
       "Retail_Product_Name              0\n",
       "Retail_Product_RFIDTagged        0\n",
       "Retail_Product_SKU               0\n",
       "Retail_Product_Size            314\n",
       "Retail_Product_Style             0\n",
       "Retail_Product_UOM               0\n",
       "Retail_Product_UPC               0\n",
       "Retail_Product_UPCs              0\n",
       "Retail_SFMax                     0\n",
       "Retail_SFMin                     0\n",
       "Retail_SOHDate                   0\n",
       "Retail_SOHQTY                    0\n",
       "Retail_SOHQTY_SF                 0\n",
       "Retail_SOHQTY_SR                 0\n",
       "Retail_StoreInProcess            0\n",
       "Retail_StoreNumber               0\n",
       "serial                           0\n",
       "thingTypeId                      0\n",
       "dtype: int64"
      ]
     },
     "execution_count": 7,
     "metadata": {},
     "output_type": "execute_result"
    }
   ],
   "source": [
    "df_expected.isna().sum()"
   ]
  },
  {
   "cell_type": "code",
   "execution_count": 8,
   "metadata": {
    "id": "mObkQlg92DvZ"
   },
   "outputs": [],
   "source": [
    "df_counted = pd.read_csv(\"https://storage.googleapis.com/mojix-devops-wildfire-bucket/analytics/bootcamp_2_0/Bootcamp_DataAnalysis_Counted.csv\", encoding=\"latin-1\")"
   ]
  },
  {
   "cell_type": "code",
   "execution_count": 9,
   "metadata": {
    "colab": {
     "base_uri": "https://localhost:8080/"
    },
    "id": "ShSlSp2JdKOy",
    "outputId": "d858fc6e-549e-445e-d743-6702dfb5dc21"
   },
   "outputs": [
    {
     "data": {
      "text/plain": [
       "RFID                            0\n",
       "Retail_CycleCountDate           0\n",
       "Retail_CycleCountDate_ts        0\n",
       "Retail_Disposition              0\n",
       "Retail_Product_Color         1216\n",
       "Retail_Product_ImageURL      7924\n",
       "Retail_Product_Level1         217\n",
       "Retail_Product_Level1Name     217\n",
       "Retail_Product_Level2        7924\n",
       "Retail_Product_Level2Name     217\n",
       "Retail_Product_Level3         291\n",
       "Retail_Product_Level3Name     217\n",
       "Retail_Product_Name           217\n",
       "Retail_Product_SKU            217\n",
       "Retail_Product_Size          1216\n",
       "Retail_Product_Style          217\n",
       "Retail_Product_UOM           7924\n",
       "Retail_Product_UPC             10\n",
       "Retail_StoreNumber              0\n",
       "Retail_ZoneName                 0\n",
       "Retail_ZoneType                 0\n",
       "shardId                         0\n",
       "viz_groupCode                7924\n",
       "viz_groupId                     0\n",
       "viz_id                          0\n",
       "viz_serialNumber                0\n",
       "viz_source                      0\n",
       "viz_thingTypeCode               0\n",
       "viz_time                        0\n",
       "dtype: int64"
      ]
     },
     "execution_count": 9,
     "metadata": {},
     "output_type": "execute_result"
    }
   ],
   "source": [
    "df_counted.isna().sum()"
   ]
  },
  {
   "cell_type": "code",
   "execution_count": 10,
   "metadata": {
    "colab": {
     "base_uri": "https://localhost:8080/"
    },
    "id": "sSDBZfYsdnjG",
    "outputId": "38bd3356-bbb3-4bd3-cead-7eccb3d41be6"
   },
   "outputs": [
    {
     "data": {
      "text/plain": [
       "0"
      ]
     },
     "execution_count": 10,
     "metadata": {},
     "output_type": "execute_result"
    }
   ],
   "source": [
    "df_counted['RFID'].isna().sum()"
   ]
  },
  {
   "cell_type": "code",
   "execution_count": 11,
   "metadata": {
    "id": "UuVQIdcme7_U"
   },
   "outputs": [],
   "source": [
    "df_counted = df_counted.drop_duplicates(\"RFID\")"
   ]
  },
  {
   "cell_type": "code",
   "execution_count": 12,
   "metadata": {
    "colab": {
     "base_uri": "https://localhost:8080/",
     "height": 206
    },
    "id": "065kXMlqeS1F",
    "outputId": "0480c989-db67-418a-df3c-dfea437257b4"
   },
   "outputs": [
    {
     "data": {
      "text/html": [
       "<div>\n",
       "<style scoped>\n",
       "    .dataframe tbody tr th:only-of-type {\n",
       "        vertical-align: middle;\n",
       "    }\n",
       "\n",
       "    .dataframe tbody tr th {\n",
       "        vertical-align: top;\n",
       "    }\n",
       "\n",
       "    .dataframe thead th {\n",
       "        text-align: right;\n",
       "    }\n",
       "</style>\n",
       "<table border=\"1\" class=\"dataframe\">\n",
       "  <thead>\n",
       "    <tr style=\"text-align: right;\">\n",
       "      <th></th>\n",
       "      <th>Retail_Product_SKU</th>\n",
       "      <th>Retail_CCQTY</th>\n",
       "    </tr>\n",
       "  </thead>\n",
       "  <tbody>\n",
       "    <tr>\n",
       "      <th>0</th>\n",
       "      <td>3.555270e+09</td>\n",
       "      <td>1</td>\n",
       "    </tr>\n",
       "    <tr>\n",
       "      <th>1</th>\n",
       "      <td>3.555270e+09</td>\n",
       "      <td>2</td>\n",
       "    </tr>\n",
       "    <tr>\n",
       "      <th>2</th>\n",
       "      <td>3.555270e+09</td>\n",
       "      <td>2</td>\n",
       "    </tr>\n",
       "    <tr>\n",
       "      <th>3</th>\n",
       "      <td>3.741470e+09</td>\n",
       "      <td>1</td>\n",
       "    </tr>\n",
       "    <tr>\n",
       "      <th>4</th>\n",
       "      <td>3.741470e+09</td>\n",
       "      <td>3</td>\n",
       "    </tr>\n",
       "  </tbody>\n",
       "</table>\n",
       "</div>"
      ],
      "text/plain": [
       "   Retail_Product_SKU  Retail_CCQTY\n",
       "0        3.555270e+09             1\n",
       "1        3.555270e+09             2\n",
       "2        3.555270e+09             2\n",
       "3        3.741470e+09             1\n",
       "4        3.741470e+09             3"
      ]
     },
     "execution_count": 12,
     "metadata": {},
     "output_type": "execute_result"
    }
   ],
   "source": [
    "retail_rfid = df_counted.groupby('Retail_Product_SKU', as_index=False)[\"RFID\"].count().rename(columns={\"RFID\":\"Retail_CCQTY\"})\n",
    "retail_rfid.head()"
   ]
  },
  {
   "cell_type": "code",
   "execution_count": 13,
   "metadata": {
    "colab": {
     "base_uri": "https://localhost:8080/"
    },
    "id": "mut7WD6rfSx7",
    "outputId": "bfd62fdf-ecba-4c82-9a99-05322386c203"
   },
   "outputs": [
    {
     "data": {
      "text/plain": [
       "3187"
      ]
     },
     "execution_count": 13,
     "metadata": {},
     "output_type": "execute_result"
    }
   ],
   "source": [
    "df_expected[\"Retail_Product_SKU\"].nunique()"
   ]
  },
  {
   "cell_type": "code",
   "execution_count": 14,
   "metadata": {
    "colab": {
     "base_uri": "https://localhost:8080/"
    },
    "id": "LcukyzCPfaBv",
    "outputId": "eb76bbaa-8a40-47cc-b47c-063b50fc7a3e"
   },
   "outputs": [
    {
     "data": {
      "text/plain": [
       "Index(['Retail_Clearance', 'Retail_InTransitQTY', 'Retail_Product_Color',\n",
       "       'Retail_Product_Dimension', 'Retail_Product_ExternalSKU',\n",
       "       'Retail_Product_ImageURL', 'Retail_Product_Level1',\n",
       "       'Retail_Product_Level1Name', 'Retail_Product_Level2',\n",
       "       'Retail_Product_Level2Name', 'Retail_Product_Level3',\n",
       "       'Retail_Product_Level3Name', 'Retail_Product_Level4',\n",
       "       'Retail_Product_Level4Name', 'Retail_Product_Level5',\n",
       "       'Retail_Product_Level5Name', 'Retail_Product_Manufacturer',\n",
       "       'Retail_Product_Name', 'Retail_Product_RFIDTagged',\n",
       "       'Retail_Product_SKU', 'Retail_Product_Size', 'Retail_Product_Style',\n",
       "       'Retail_Product_UOM', 'Retail_Product_UPC', 'Retail_Product_UPCs',\n",
       "       'Retail_SFMax', 'Retail_SFMin', 'Retail_SOHDate', 'Retail_SOHQTY',\n",
       "       'Retail_SOHQTY_SF', 'Retail_SOHQTY_SR', 'Retail_StoreInProcess',\n",
       "       'Retail_StoreNumber', 'serial', 'thingTypeId'],\n",
       "      dtype='object')"
      ]
     },
     "execution_count": 14,
     "metadata": {},
     "output_type": "execute_result"
    }
   ],
   "source": [
    "df_expected.columns"
   ]
  },
  {
   "cell_type": "code",
   "execution_count": 15,
   "metadata": {
    "id": "DagLzpCkf5sf"
   },
   "outputs": [],
   "source": [
    "columns = [\"Retail_Product_Color\",\n",
    "\"Retail_Product_Level1\",\n",
    "\"Retail_Product_Level1Name\",\n",
    "\"Retail_Product_Level2Name\",\n",
    "\"Retail_Product_Level3Name\",\n",
    "\"Retail_Product_Level4Name\",\n",
    "\"Retail_Product_Name\",\n",
    "\"Retail_Product_SKU\",\n",
    "\"Retail_Product_Size\",\n",
    "\"Retail_Product_Style\",\n",
    "\"Retail_SOHQTY\"]"
   ]
  },
  {
   "cell_type": "code",
   "execution_count": 16,
   "metadata": {
    "id": "xyz3Sh-JgHSE"
   },
   "outputs": [],
   "source": [
    "df_expected_a = df_expected[columns]"
   ]
  },
  {
   "cell_type": "code",
   "execution_count": 17,
   "metadata": {
    "colab": {
     "base_uri": "https://localhost:8080/",
     "height": 536
    },
    "id": "ayERa3E8gd4A",
    "outputId": "80bdab8c-c4b9-4eb8-ac37-c0cd5dc37dbb"
   },
   "outputs": [
    {
     "data": {
      "text/html": [
       "<div>\n",
       "<style scoped>\n",
       "    .dataframe tbody tr th:only-of-type {\n",
       "        vertical-align: middle;\n",
       "    }\n",
       "\n",
       "    .dataframe tbody tr th {\n",
       "        vertical-align: top;\n",
       "    }\n",
       "\n",
       "    .dataframe thead th {\n",
       "        text-align: right;\n",
       "    }\n",
       "</style>\n",
       "<table border=\"1\" class=\"dataframe\">\n",
       "  <thead>\n",
       "    <tr style=\"text-align: right;\">\n",
       "      <th></th>\n",
       "      <th>0</th>\n",
       "      <th>1</th>\n",
       "      <th>2</th>\n",
       "      <th>3</th>\n",
       "      <th>4</th>\n",
       "    </tr>\n",
       "  </thead>\n",
       "  <tbody>\n",
       "    <tr>\n",
       "      <th>Retail_Product_Color</th>\n",
       "      <td>BRANCO</td>\n",
       "      <td>ROSA</td>\n",
       "      <td>NaN</td>\n",
       "      <td>JEANS</td>\n",
       "      <td>JEANS</td>\n",
       "    </tr>\n",
       "    <tr>\n",
       "      <th>Retail_Product_Level1</th>\n",
       "      <td>C</td>\n",
       "      <td>C</td>\n",
       "      <td>H</td>\n",
       "      <td>C</td>\n",
       "      <td>C</td>\n",
       "    </tr>\n",
       "    <tr>\n",
       "      <th>Retail_Product_Level1Name</th>\n",
       "      <td>VESTUARIO</td>\n",
       "      <td>VESTUARIO</td>\n",
       "      <td>ELETRO-ELETRONICOS</td>\n",
       "      <td>VESTUARIO</td>\n",
       "      <td>VESTUARIO</td>\n",
       "    </tr>\n",
       "    <tr>\n",
       "      <th>Retail_Product_Level2Name</th>\n",
       "      <td>CR</td>\n",
       "      <td>CY</td>\n",
       "      <td>HZ</td>\n",
       "      <td>CY</td>\n",
       "      <td>CY</td>\n",
       "    </tr>\n",
       "    <tr>\n",
       "      <th>Retail_Product_Level3Name</th>\n",
       "      <td>CRB</td>\n",
       "      <td>CYA</td>\n",
       "      <td>HZB</td>\n",
       "      <td>CYA</td>\n",
       "      <td>CYC</td>\n",
       "    </tr>\n",
       "    <tr>\n",
       "      <th>Retail_Product_Level4Name</th>\n",
       "      <td>CRBK</td>\n",
       "      <td>CYAE</td>\n",
       "      <td>HZBO</td>\n",
       "      <td>CYAA</td>\n",
       "      <td>CYCD</td>\n",
       "    </tr>\n",
       "    <tr>\n",
       "      <th>Retail_Product_Name</th>\n",
       "      <td>CALCINHA CR SLO ELLA ESTAMPADO CINZA P B</td>\n",
       "      <td>BERMUDA SARJA CRN SLO INK ABERTURA BARRA</td>\n",
       "      <td>RELOGIO FEM MONDAINE PRATA KIT COLAR ANA</td>\n",
       "      <td>CALCA JEANS CF MSA INK USED TANK DIRT LI</td>\n",
       "      <td>SHORT JEANS PS PRD BARRA DOBRADA E PREGA</td>\n",
       "    </tr>\n",
       "    <tr>\n",
       "      <th>Retail_Product_SKU</th>\n",
       "      <td>9568860004.0</td>\n",
       "      <td>9384260002.0</td>\n",
       "      <td>9735510000.0</td>\n",
       "      <td>9579550002.0</td>\n",
       "      <td>9633210004.0</td>\n",
       "    </tr>\n",
       "    <tr>\n",
       "      <th>Retail_Product_Size</th>\n",
       "      <td>P</td>\n",
       "      <td>40</td>\n",
       "      <td>NaN</td>\n",
       "      <td>38</td>\n",
       "      <td>52</td>\n",
       "    </tr>\n",
       "    <tr>\n",
       "      <th>Retail_Product_Style</th>\n",
       "      <td>KIT CALCINHA</td>\n",
       "      <td>BOTTOM CURTO SARJA</td>\n",
       "      <td>KIT FEMININO PRATA</td>\n",
       "      <td>CALÇA JEANS</td>\n",
       "      <td>BOTTOM CURTO JEANS PLUS</td>\n",
       "    </tr>\n",
       "    <tr>\n",
       "      <th>Retail_SOHQTY</th>\n",
       "      <td>1.0</td>\n",
       "      <td>3.0</td>\n",
       "      <td>1.0</td>\n",
       "      <td>3.0</td>\n",
       "      <td>2.0</td>\n",
       "    </tr>\n",
       "    <tr>\n",
       "      <th>Retail_CCQTY</th>\n",
       "      <td>1.0</td>\n",
       "      <td>1.0</td>\n",
       "      <td>1.0</td>\n",
       "      <td>3.0</td>\n",
       "      <td>NaN</td>\n",
       "    </tr>\n",
       "    <tr>\n",
       "      <th>_merge</th>\n",
       "      <td>both</td>\n",
       "      <td>both</td>\n",
       "      <td>both</td>\n",
       "      <td>both</td>\n",
       "      <td>left_only</td>\n",
       "    </tr>\n",
       "  </tbody>\n",
       "</table>\n",
       "</div>"
      ],
      "text/plain": [
       "                                                                  0  \\\n",
       "Retail_Product_Color                                         BRANCO   \n",
       "Retail_Product_Level1                                             C   \n",
       "Retail_Product_Level1Name                                 VESTUARIO   \n",
       "Retail_Product_Level2Name                                        CR   \n",
       "Retail_Product_Level3Name                                       CRB   \n",
       "Retail_Product_Level4Name                                      CRBK   \n",
       "Retail_Product_Name        CALCINHA CR SLO ELLA ESTAMPADO CINZA P B   \n",
       "Retail_Product_SKU                                     9568860004.0   \n",
       "Retail_Product_Size                                               P   \n",
       "Retail_Product_Style                                   KIT CALCINHA   \n",
       "Retail_SOHQTY                                                   1.0   \n",
       "Retail_CCQTY                                                    1.0   \n",
       "_merge                                                         both   \n",
       "\n",
       "                                                                  1  \\\n",
       "Retail_Product_Color                                           ROSA   \n",
       "Retail_Product_Level1                                             C   \n",
       "Retail_Product_Level1Name                                 VESTUARIO   \n",
       "Retail_Product_Level2Name                                        CY   \n",
       "Retail_Product_Level3Name                                       CYA   \n",
       "Retail_Product_Level4Name                                      CYAE   \n",
       "Retail_Product_Name        BERMUDA SARJA CRN SLO INK ABERTURA BARRA   \n",
       "Retail_Product_SKU                                     9384260002.0   \n",
       "Retail_Product_Size                                              40   \n",
       "Retail_Product_Style                             BOTTOM CURTO SARJA   \n",
       "Retail_SOHQTY                                                   3.0   \n",
       "Retail_CCQTY                                                    1.0   \n",
       "_merge                                                         both   \n",
       "\n",
       "                                                                  2  \\\n",
       "Retail_Product_Color                                            NaN   \n",
       "Retail_Product_Level1                                             H   \n",
       "Retail_Product_Level1Name                        ELETRO-ELETRONICOS   \n",
       "Retail_Product_Level2Name                                        HZ   \n",
       "Retail_Product_Level3Name                                       HZB   \n",
       "Retail_Product_Level4Name                                      HZBO   \n",
       "Retail_Product_Name        RELOGIO FEM MONDAINE PRATA KIT COLAR ANA   \n",
       "Retail_Product_SKU                                     9735510000.0   \n",
       "Retail_Product_Size                                             NaN   \n",
       "Retail_Product_Style                             KIT FEMININO PRATA   \n",
       "Retail_SOHQTY                                                   1.0   \n",
       "Retail_CCQTY                                                    1.0   \n",
       "_merge                                                         both   \n",
       "\n",
       "                                                                  3  \\\n",
       "Retail_Product_Color                                          JEANS   \n",
       "Retail_Product_Level1                                             C   \n",
       "Retail_Product_Level1Name                                 VESTUARIO   \n",
       "Retail_Product_Level2Name                                        CY   \n",
       "Retail_Product_Level3Name                                       CYA   \n",
       "Retail_Product_Level4Name                                      CYAA   \n",
       "Retail_Product_Name        CALCA JEANS CF MSA INK USED TANK DIRT LI   \n",
       "Retail_Product_SKU                                     9579550002.0   \n",
       "Retail_Product_Size                                              38   \n",
       "Retail_Product_Style                                    CALÇA JEANS   \n",
       "Retail_SOHQTY                                                   3.0   \n",
       "Retail_CCQTY                                                    3.0   \n",
       "_merge                                                         both   \n",
       "\n",
       "                                                                  4  \n",
       "Retail_Product_Color                                          JEANS  \n",
       "Retail_Product_Level1                                             C  \n",
       "Retail_Product_Level1Name                                 VESTUARIO  \n",
       "Retail_Product_Level2Name                                        CY  \n",
       "Retail_Product_Level3Name                                       CYC  \n",
       "Retail_Product_Level4Name                                      CYCD  \n",
       "Retail_Product_Name        SHORT JEANS PS PRD BARRA DOBRADA E PREGA  \n",
       "Retail_Product_SKU                                     9633210004.0  \n",
       "Retail_Product_Size                                              52  \n",
       "Retail_Product_Style                        BOTTOM CURTO JEANS PLUS  \n",
       "Retail_SOHQTY                                                   2.0  \n",
       "Retail_CCQTY                                                    NaN  \n",
       "_merge                                                    left_only  "
      ]
     },
     "execution_count": 17,
     "metadata": {},
     "output_type": "execute_result"
    }
   ],
   "source": [
    "new_df = df_expected_a.merge(retail_rfid, how='outer', left_on=\"Retail_Product_SKU\", right_on=\"Retail_Product_SKU\", indicator=True)\n",
    "new_df.head().T"
   ]
  },
  {
   "cell_type": "code",
   "execution_count": 18,
   "metadata": {
    "id": "7qpAlKFehEL5"
   },
   "outputs": [],
   "source": [
    "new_df['Retail_CCQTY'] = new_df['Retail_CCQTY'].fillna(0).astype('int')\n",
    "\n",
    "\n",
    "new_df['Retail_SOHQTY'] = new_df['Retail_SOHQTY'].fillna(0).astype('int')\n"
   ]
  },
  {
   "cell_type": "code",
   "execution_count": 19,
   "metadata": {
    "id": "vuMd37gYhaMz"
   },
   "outputs": [],
   "source": [
    "new_df['diff'] = new_df[\"Retail_CCQTY\"] - new_df[\"Retail_SOHQTY\"]"
   ]
  },
  {
   "cell_type": "code",
   "execution_count": 20,
   "metadata": {
    "colab": {
     "base_uri": "https://localhost:8080/",
     "height": 426
    },
    "id": "XCgtVo63hbo5",
    "outputId": "518fafbc-d91a-4046-f18a-e4fdb53001df"
   },
   "outputs": [
    {
     "data": {
      "text/html": [
       "<div>\n",
       "<style scoped>\n",
       "    .dataframe tbody tr th:only-of-type {\n",
       "        vertical-align: middle;\n",
       "    }\n",
       "\n",
       "    .dataframe tbody tr th {\n",
       "        vertical-align: top;\n",
       "    }\n",
       "\n",
       "    .dataframe thead th {\n",
       "        text-align: right;\n",
       "    }\n",
       "</style>\n",
       "<table border=\"1\" class=\"dataframe\">\n",
       "  <thead>\n",
       "    <tr style=\"text-align: right;\">\n",
       "      <th></th>\n",
       "      <th>Retail_Product_Color</th>\n",
       "      <th>Retail_Product_Level1</th>\n",
       "      <th>Retail_Product_Level1Name</th>\n",
       "      <th>Retail_Product_Level2Name</th>\n",
       "      <th>Retail_Product_Level3Name</th>\n",
       "      <th>Retail_Product_Level4Name</th>\n",
       "      <th>Retail_Product_Name</th>\n",
       "      <th>Retail_Product_SKU</th>\n",
       "      <th>Retail_Product_Size</th>\n",
       "      <th>Retail_Product_Style</th>\n",
       "      <th>Retail_SOHQTY</th>\n",
       "      <th>Retail_CCQTY</th>\n",
       "      <th>_merge</th>\n",
       "      <th>diff</th>\n",
       "    </tr>\n",
       "  </thead>\n",
       "  <tbody>\n",
       "    <tr>\n",
       "      <th>0</th>\n",
       "      <td>BRANCO</td>\n",
       "      <td>C</td>\n",
       "      <td>VESTUARIO</td>\n",
       "      <td>CR</td>\n",
       "      <td>CRB</td>\n",
       "      <td>CRBK</td>\n",
       "      <td>CALCINHA CR SLO ELLA ESTAMPADO CINZA P B</td>\n",
       "      <td>9.568860e+09</td>\n",
       "      <td>P</td>\n",
       "      <td>KIT CALCINHA</td>\n",
       "      <td>1</td>\n",
       "      <td>1</td>\n",
       "      <td>both</td>\n",
       "      <td>0</td>\n",
       "    </tr>\n",
       "    <tr>\n",
       "      <th>1</th>\n",
       "      <td>ROSA</td>\n",
       "      <td>C</td>\n",
       "      <td>VESTUARIO</td>\n",
       "      <td>CY</td>\n",
       "      <td>CYA</td>\n",
       "      <td>CYAE</td>\n",
       "      <td>BERMUDA SARJA CRN SLO INK ABERTURA BARRA</td>\n",
       "      <td>9.384260e+09</td>\n",
       "      <td>40</td>\n",
       "      <td>BOTTOM CURTO SARJA</td>\n",
       "      <td>3</td>\n",
       "      <td>1</td>\n",
       "      <td>both</td>\n",
       "      <td>-2</td>\n",
       "    </tr>\n",
       "    <tr>\n",
       "      <th>2</th>\n",
       "      <td>NaN</td>\n",
       "      <td>H</td>\n",
       "      <td>ELETRO-ELETRONICOS</td>\n",
       "      <td>HZ</td>\n",
       "      <td>HZB</td>\n",
       "      <td>HZBO</td>\n",
       "      <td>RELOGIO FEM MONDAINE PRATA KIT COLAR ANA</td>\n",
       "      <td>9.735510e+09</td>\n",
       "      <td>NaN</td>\n",
       "      <td>KIT FEMININO PRATA</td>\n",
       "      <td>1</td>\n",
       "      <td>1</td>\n",
       "      <td>both</td>\n",
       "      <td>0</td>\n",
       "    </tr>\n",
       "    <tr>\n",
       "      <th>3</th>\n",
       "      <td>JEANS</td>\n",
       "      <td>C</td>\n",
       "      <td>VESTUARIO</td>\n",
       "      <td>CY</td>\n",
       "      <td>CYA</td>\n",
       "      <td>CYAA</td>\n",
       "      <td>CALCA JEANS CF MSA INK USED TANK DIRT LI</td>\n",
       "      <td>9.579550e+09</td>\n",
       "      <td>38</td>\n",
       "      <td>CALÇA JEANS</td>\n",
       "      <td>3</td>\n",
       "      <td>3</td>\n",
       "      <td>both</td>\n",
       "      <td>0</td>\n",
       "    </tr>\n",
       "    <tr>\n",
       "      <th>4</th>\n",
       "      <td>JEANS</td>\n",
       "      <td>C</td>\n",
       "      <td>VESTUARIO</td>\n",
       "      <td>CY</td>\n",
       "      <td>CYC</td>\n",
       "      <td>CYCD</td>\n",
       "      <td>SHORT JEANS PS PRD BARRA DOBRADA E PREGA</td>\n",
       "      <td>9.633210e+09</td>\n",
       "      <td>52</td>\n",
       "      <td>BOTTOM CURTO JEANS PLUS</td>\n",
       "      <td>2</td>\n",
       "      <td>0</td>\n",
       "      <td>left_only</td>\n",
       "      <td>-2</td>\n",
       "    </tr>\n",
       "  </tbody>\n",
       "</table>\n",
       "</div>"
      ],
      "text/plain": [
       "  Retail_Product_Color Retail_Product_Level1 Retail_Product_Level1Name  \\\n",
       "0               BRANCO                     C                 VESTUARIO   \n",
       "1                 ROSA                     C                 VESTUARIO   \n",
       "2                  NaN                     H        ELETRO-ELETRONICOS   \n",
       "3                JEANS                     C                 VESTUARIO   \n",
       "4                JEANS                     C                 VESTUARIO   \n",
       "\n",
       "  Retail_Product_Level2Name Retail_Product_Level3Name  \\\n",
       "0                        CR                       CRB   \n",
       "1                        CY                       CYA   \n",
       "2                        HZ                       HZB   \n",
       "3                        CY                       CYA   \n",
       "4                        CY                       CYC   \n",
       "\n",
       "  Retail_Product_Level4Name                       Retail_Product_Name  \\\n",
       "0                      CRBK  CALCINHA CR SLO ELLA ESTAMPADO CINZA P B   \n",
       "1                      CYAE  BERMUDA SARJA CRN SLO INK ABERTURA BARRA   \n",
       "2                      HZBO  RELOGIO FEM MONDAINE PRATA KIT COLAR ANA   \n",
       "3                      CYAA  CALCA JEANS CF MSA INK USED TANK DIRT LI   \n",
       "4                      CYCD  SHORT JEANS PS PRD BARRA DOBRADA E PREGA   \n",
       "\n",
       "   Retail_Product_SKU Retail_Product_Size     Retail_Product_Style  \\\n",
       "0        9.568860e+09                   P             KIT CALCINHA   \n",
       "1        9.384260e+09                  40       BOTTOM CURTO SARJA   \n",
       "2        9.735510e+09                 NaN       KIT FEMININO PRATA   \n",
       "3        9.579550e+09                  38              CALÇA JEANS   \n",
       "4        9.633210e+09                  52  BOTTOM CURTO JEANS PLUS   \n",
       "\n",
       "   Retail_SOHQTY  Retail_CCQTY     _merge  diff  \n",
       "0              1             1       both     0  \n",
       "1              3             1       both    -2  \n",
       "2              1             1       both     0  \n",
       "3              3             3       both     0  \n",
       "4              2             0  left_only    -2  "
      ]
     },
     "execution_count": 20,
     "metadata": {},
     "output_type": "execute_result"
    }
   ],
   "source": [
    "new_df.head()"
   ]
  },
  {
   "cell_type": "code",
   "execution_count": 21,
   "metadata": {
    "colab": {
     "base_uri": "https://localhost:8080/",
     "height": 426
    },
    "id": "dvMArYlqjKyR",
    "outputId": "b3367e3b-2d9d-47aa-ff4d-20eb6bb1604c"
   },
   "outputs": [
    {
     "data": {
      "text/html": [
       "<div>\n",
       "<style scoped>\n",
       "    .dataframe tbody tr th:only-of-type {\n",
       "        vertical-align: middle;\n",
       "    }\n",
       "\n",
       "    .dataframe tbody tr th {\n",
       "        vertical-align: top;\n",
       "    }\n",
       "\n",
       "    .dataframe thead th {\n",
       "        text-align: right;\n",
       "    }\n",
       "</style>\n",
       "<table border=\"1\" class=\"dataframe\">\n",
       "  <thead>\n",
       "    <tr style=\"text-align: right;\">\n",
       "      <th></th>\n",
       "      <th>Retail_Product_Color</th>\n",
       "      <th>Retail_Product_Level1</th>\n",
       "      <th>Retail_Product_Level1Name</th>\n",
       "      <th>Retail_Product_Level2Name</th>\n",
       "      <th>Retail_Product_Level3Name</th>\n",
       "      <th>Retail_Product_Level4Name</th>\n",
       "      <th>Retail_Product_Name</th>\n",
       "      <th>Retail_Product_SKU</th>\n",
       "      <th>Retail_Product_Size</th>\n",
       "      <th>Retail_Product_Style</th>\n",
       "      <th>Retail_SOHQTY</th>\n",
       "      <th>Retail_CCQTY</th>\n",
       "      <th>_merge</th>\n",
       "      <th>diff</th>\n",
       "      <th>unders</th>\n",
       "    </tr>\n",
       "  </thead>\n",
       "  <tbody>\n",
       "    <tr>\n",
       "      <th>0</th>\n",
       "      <td>BRANCO</td>\n",
       "      <td>C</td>\n",
       "      <td>VESTUARIO</td>\n",
       "      <td>CR</td>\n",
       "      <td>CRB</td>\n",
       "      <td>CRBK</td>\n",
       "      <td>CALCINHA CR SLO ELLA ESTAMPADO CINZA P B</td>\n",
       "      <td>9.568860e+09</td>\n",
       "      <td>P</td>\n",
       "      <td>KIT CALCINHA</td>\n",
       "      <td>1</td>\n",
       "      <td>1</td>\n",
       "      <td>both</td>\n",
       "      <td>0</td>\n",
       "      <td>NaN</td>\n",
       "    </tr>\n",
       "    <tr>\n",
       "      <th>1</th>\n",
       "      <td>ROSA</td>\n",
       "      <td>C</td>\n",
       "      <td>VESTUARIO</td>\n",
       "      <td>CY</td>\n",
       "      <td>CYA</td>\n",
       "      <td>CYAE</td>\n",
       "      <td>BERMUDA SARJA CRN SLO INK ABERTURA BARRA</td>\n",
       "      <td>9.384260e+09</td>\n",
       "      <td>40</td>\n",
       "      <td>BOTTOM CURTO SARJA</td>\n",
       "      <td>3</td>\n",
       "      <td>1</td>\n",
       "      <td>both</td>\n",
       "      <td>-2</td>\n",
       "      <td>2.0</td>\n",
       "    </tr>\n",
       "    <tr>\n",
       "      <th>2</th>\n",
       "      <td>NaN</td>\n",
       "      <td>H</td>\n",
       "      <td>ELETRO-ELETRONICOS</td>\n",
       "      <td>HZ</td>\n",
       "      <td>HZB</td>\n",
       "      <td>HZBO</td>\n",
       "      <td>RELOGIO FEM MONDAINE PRATA KIT COLAR ANA</td>\n",
       "      <td>9.735510e+09</td>\n",
       "      <td>NaN</td>\n",
       "      <td>KIT FEMININO PRATA</td>\n",
       "      <td>1</td>\n",
       "      <td>1</td>\n",
       "      <td>both</td>\n",
       "      <td>0</td>\n",
       "      <td>NaN</td>\n",
       "    </tr>\n",
       "    <tr>\n",
       "      <th>3</th>\n",
       "      <td>JEANS</td>\n",
       "      <td>C</td>\n",
       "      <td>VESTUARIO</td>\n",
       "      <td>CY</td>\n",
       "      <td>CYA</td>\n",
       "      <td>CYAA</td>\n",
       "      <td>CALCA JEANS CF MSA INK USED TANK DIRT LI</td>\n",
       "      <td>9.579550e+09</td>\n",
       "      <td>38</td>\n",
       "      <td>CALÇA JEANS</td>\n",
       "      <td>3</td>\n",
       "      <td>3</td>\n",
       "      <td>both</td>\n",
       "      <td>0</td>\n",
       "      <td>NaN</td>\n",
       "    </tr>\n",
       "    <tr>\n",
       "      <th>4</th>\n",
       "      <td>JEANS</td>\n",
       "      <td>C</td>\n",
       "      <td>VESTUARIO</td>\n",
       "      <td>CY</td>\n",
       "      <td>CYC</td>\n",
       "      <td>CYCD</td>\n",
       "      <td>SHORT JEANS PS PRD BARRA DOBRADA E PREGA</td>\n",
       "      <td>9.633210e+09</td>\n",
       "      <td>52</td>\n",
       "      <td>BOTTOM CURTO JEANS PLUS</td>\n",
       "      <td>2</td>\n",
       "      <td>0</td>\n",
       "      <td>left_only</td>\n",
       "      <td>-2</td>\n",
       "      <td>2.0</td>\n",
       "    </tr>\n",
       "  </tbody>\n",
       "</table>\n",
       "</div>"
      ],
      "text/plain": [
       "  Retail_Product_Color Retail_Product_Level1 Retail_Product_Level1Name  \\\n",
       "0               BRANCO                     C                 VESTUARIO   \n",
       "1                 ROSA                     C                 VESTUARIO   \n",
       "2                  NaN                     H        ELETRO-ELETRONICOS   \n",
       "3                JEANS                     C                 VESTUARIO   \n",
       "4                JEANS                     C                 VESTUARIO   \n",
       "\n",
       "  Retail_Product_Level2Name Retail_Product_Level3Name  \\\n",
       "0                        CR                       CRB   \n",
       "1                        CY                       CYA   \n",
       "2                        HZ                       HZB   \n",
       "3                        CY                       CYA   \n",
       "4                        CY                       CYC   \n",
       "\n",
       "  Retail_Product_Level4Name                       Retail_Product_Name  \\\n",
       "0                      CRBK  CALCINHA CR SLO ELLA ESTAMPADO CINZA P B   \n",
       "1                      CYAE  BERMUDA SARJA CRN SLO INK ABERTURA BARRA   \n",
       "2                      HZBO  RELOGIO FEM MONDAINE PRATA KIT COLAR ANA   \n",
       "3                      CYAA  CALCA JEANS CF MSA INK USED TANK DIRT LI   \n",
       "4                      CYCD  SHORT JEANS PS PRD BARRA DOBRADA E PREGA   \n",
       "\n",
       "   Retail_Product_SKU Retail_Product_Size     Retail_Product_Style  \\\n",
       "0        9.568860e+09                   P             KIT CALCINHA   \n",
       "1        9.384260e+09                  40       BOTTOM CURTO SARJA   \n",
       "2        9.735510e+09                 NaN       KIT FEMININO PRATA   \n",
       "3        9.579550e+09                  38              CALÇA JEANS   \n",
       "4        9.633210e+09                  52  BOTTOM CURTO JEANS PLUS   \n",
       "\n",
       "   Retail_SOHQTY  Retail_CCQTY     _merge  diff  unders  \n",
       "0              1             1       both     0     NaN  \n",
       "1              3             1       both    -2     2.0  \n",
       "2              1             1       both     0     NaN  \n",
       "3              3             3       both     0     NaN  \n",
       "4              2             0  left_only    -2     2.0  "
      ]
     },
     "execution_count": 21,
     "metadata": {},
     "output_type": "execute_result"
    }
   ],
   "source": [
    "new_df.loc[new_df[\"diff\"] < 0, \"unders\"] = new_df[\"diff\"] * (-1)\n",
    "new_df.head()"
   ]
  },
  {
   "cell_type": "code",
   "execution_count": 22,
   "metadata": {
    "id": "UjuZZrrgjKuD"
   },
   "outputs": [],
   "source": [
    "new_df[\"unders\"] = new_df[\"unders\"].fillna(0).astype(int)"
   ]
  },
  {
   "cell_type": "code",
   "execution_count": 23,
   "metadata": {
    "colab": {
     "base_uri": "https://localhost:8080/",
     "height": 583
    },
    "id": "9zxWgQ-gjKnR",
    "outputId": "53e29c50-1fa7-4273-9542-fd0ac59bd684"
   },
   "outputs": [
    {
     "data": {
      "text/html": [
       "<div>\n",
       "<style scoped>\n",
       "    .dataframe tbody tr th:only-of-type {\n",
       "        vertical-align: middle;\n",
       "    }\n",
       "\n",
       "    .dataframe tbody tr th {\n",
       "        vertical-align: top;\n",
       "    }\n",
       "\n",
       "    .dataframe thead th {\n",
       "        text-align: right;\n",
       "    }\n",
       "</style>\n",
       "<table border=\"1\" class=\"dataframe\">\n",
       "  <thead>\n",
       "    <tr style=\"text-align: right;\">\n",
       "      <th></th>\n",
       "      <th>Retail_Product_Color</th>\n",
       "      <th>Retail_Product_Level1</th>\n",
       "      <th>Retail_Product_Level1Name</th>\n",
       "      <th>Retail_Product_Level2Name</th>\n",
       "      <th>Retail_Product_Level3Name</th>\n",
       "      <th>Retail_Product_Level4Name</th>\n",
       "      <th>Retail_Product_Name</th>\n",
       "      <th>Retail_Product_SKU</th>\n",
       "      <th>Retail_Product_Size</th>\n",
       "      <th>Retail_Product_Style</th>\n",
       "      <th>Retail_SOHQTY</th>\n",
       "      <th>Retail_CCQTY</th>\n",
       "      <th>_merge</th>\n",
       "      <th>diff</th>\n",
       "      <th>unders</th>\n",
       "    </tr>\n",
       "  </thead>\n",
       "  <tbody>\n",
       "    <tr>\n",
       "      <th>2507</th>\n",
       "      <td>JEANS</td>\n",
       "      <td>C</td>\n",
       "      <td>VESTUARIO</td>\n",
       "      <td>CY</td>\n",
       "      <td>CYA</td>\n",
       "      <td>CYAD</td>\n",
       "      <td>SHORT JEANS CRN SLO INK BARRA CHUVEIRINH</td>\n",
       "      <td>9.392570e+09</td>\n",
       "      <td>40</td>\n",
       "      <td>BOTTOM CURTO JEANS</td>\n",
       "      <td>6</td>\n",
       "      <td>0</td>\n",
       "      <td>left_only</td>\n",
       "      <td>-6</td>\n",
       "      <td>6</td>\n",
       "    </tr>\n",
       "    <tr>\n",
       "      <th>155</th>\n",
       "      <td>BRANCO</td>\n",
       "      <td>C</td>\n",
       "      <td>VESTUARIO</td>\n",
       "      <td>C7</td>\n",
       "      <td>C7A</td>\n",
       "      <td>C7AT</td>\n",
       "      <td>SOUTIEN TG P1 RENDA BCA ADA 48 BRANCO CL</td>\n",
       "      <td>9.458340e+09</td>\n",
       "      <td>48</td>\n",
       "      <td>SOUTIEN / TOP</td>\n",
       "      <td>4</td>\n",
       "      <td>1</td>\n",
       "      <td>both</td>\n",
       "      <td>-3</td>\n",
       "      <td>3</td>\n",
       "    </tr>\n",
       "    <tr>\n",
       "      <th>3285</th>\n",
       "      <td>NaN</td>\n",
       "      <td>NaN</td>\n",
       "      <td>NaN</td>\n",
       "      <td>NaN</td>\n",
       "      <td>NaN</td>\n",
       "      <td>NaN</td>\n",
       "      <td>NaN</td>\n",
       "      <td>9.258850e+09</td>\n",
       "      <td>NaN</td>\n",
       "      <td>NaN</td>\n",
       "      <td>0</td>\n",
       "      <td>2</td>\n",
       "      <td>right_only</td>\n",
       "      <td>2</td>\n",
       "      <td>0</td>\n",
       "    </tr>\n",
       "    <tr>\n",
       "      <th>782</th>\n",
       "      <td>VERMELHO</td>\n",
       "      <td>C</td>\n",
       "      <td>VESTUARIO</td>\n",
       "      <td>CJ</td>\n",
       "      <td>CJA</td>\n",
       "      <td>CJAT</td>\n",
       "      <td>SOUTIEN  SNS SLO PUSH UP RENDA VERMELHO</td>\n",
       "      <td>8.222160e+09</td>\n",
       "      <td>42</td>\n",
       "      <td>SOUTIEN / TOP</td>\n",
       "      <td>1</td>\n",
       "      <td>0</td>\n",
       "      <td>left_only</td>\n",
       "      <td>-1</td>\n",
       "      <td>1</td>\n",
       "    </tr>\n",
       "    <tr>\n",
       "      <th>3021</th>\n",
       "      <td>NaN</td>\n",
       "      <td>H</td>\n",
       "      <td>ELETRO-ELETRONICOS</td>\n",
       "      <td>HZ</td>\n",
       "      <td>HZA</td>\n",
       "      <td>HZAI</td>\n",
       "      <td>RELOGIO M P3 ORIENT PTA MBSS1154A G2SX</td>\n",
       "      <td>8.327520e+09</td>\n",
       "      <td>NaN</td>\n",
       "      <td>MASCULINO PRATA</td>\n",
       "      <td>3</td>\n",
       "      <td>3</td>\n",
       "      <td>both</td>\n",
       "      <td>0</td>\n",
       "      <td>0</td>\n",
       "    </tr>\n",
       "    <tr>\n",
       "      <th>1794</th>\n",
       "      <td>VERMELHO</td>\n",
       "      <td>C</td>\n",
       "      <td>VESTUARIO</td>\n",
       "      <td>C6</td>\n",
       "      <td>C6A</td>\n",
       "      <td>C6AB</td>\n",
       "      <td>3 CALCINHAS APP TRS BIQUINI REF 51509 K2</td>\n",
       "      <td>8.878390e+09</td>\n",
       "      <td>GG</td>\n",
       "      <td>CALCINHA / BOTTOM</td>\n",
       "      <td>2</td>\n",
       "      <td>1</td>\n",
       "      <td>both</td>\n",
       "      <td>-1</td>\n",
       "      <td>1</td>\n",
       "    </tr>\n",
       "    <tr>\n",
       "      <th>2778</th>\n",
       "      <td>JEANS</td>\n",
       "      <td>C</td>\n",
       "      <td>VESTUARIO</td>\n",
       "      <td>CY</td>\n",
       "      <td>CYA</td>\n",
       "      <td>CYAA</td>\n",
       "      <td>CALCA JEANS  BIO MARCA DE TERCEIROS Skin</td>\n",
       "      <td>9.663590e+09</td>\n",
       "      <td>46</td>\n",
       "      <td>CALÇA JEANS</td>\n",
       "      <td>1</td>\n",
       "      <td>0</td>\n",
       "      <td>left_only</td>\n",
       "      <td>-1</td>\n",
       "      <td>1</td>\n",
       "    </tr>\n",
       "    <tr>\n",
       "      <th>4433</th>\n",
       "      <td>NaN</td>\n",
       "      <td>NaN</td>\n",
       "      <td>NaN</td>\n",
       "      <td>NaN</td>\n",
       "      <td>NaN</td>\n",
       "      <td>NaN</td>\n",
       "      <td>NaN</td>\n",
       "      <td>9.540790e+09</td>\n",
       "      <td>NaN</td>\n",
       "      <td>NaN</td>\n",
       "      <td>0</td>\n",
       "      <td>1</td>\n",
       "      <td>right_only</td>\n",
       "      <td>1</td>\n",
       "      <td>0</td>\n",
       "    </tr>\n",
       "    <tr>\n",
       "      <th>5162</th>\n",
       "      <td>NaN</td>\n",
       "      <td>NaN</td>\n",
       "      <td>NaN</td>\n",
       "      <td>NaN</td>\n",
       "      <td>NaN</td>\n",
       "      <td>NaN</td>\n",
       "      <td>NaN</td>\n",
       "      <td>9.695220e+09</td>\n",
       "      <td>NaN</td>\n",
       "      <td>NaN</td>\n",
       "      <td>0</td>\n",
       "      <td>1</td>\n",
       "      <td>right_only</td>\n",
       "      <td>1</td>\n",
       "      <td>0</td>\n",
       "    </tr>\n",
       "    <tr>\n",
       "      <th>5027</th>\n",
       "      <td>NaN</td>\n",
       "      <td>NaN</td>\n",
       "      <td>NaN</td>\n",
       "      <td>NaN</td>\n",
       "      <td>NaN</td>\n",
       "      <td>NaN</td>\n",
       "      <td>NaN</td>\n",
       "      <td>9.657060e+09</td>\n",
       "      <td>NaN</td>\n",
       "      <td>NaN</td>\n",
       "      <td>0</td>\n",
       "      <td>3</td>\n",
       "      <td>right_only</td>\n",
       "      <td>3</td>\n",
       "      <td>0</td>\n",
       "    </tr>\n",
       "  </tbody>\n",
       "</table>\n",
       "</div>"
      ],
      "text/plain": [
       "     Retail_Product_Color Retail_Product_Level1 Retail_Product_Level1Name  \\\n",
       "2507                JEANS                     C                 VESTUARIO   \n",
       "155                BRANCO                     C                 VESTUARIO   \n",
       "3285                  NaN                   NaN                       NaN   \n",
       "782              VERMELHO                     C                 VESTUARIO   \n",
       "3021                  NaN                     H        ELETRO-ELETRONICOS   \n",
       "1794             VERMELHO                     C                 VESTUARIO   \n",
       "2778                JEANS                     C                 VESTUARIO   \n",
       "4433                  NaN                   NaN                       NaN   \n",
       "5162                  NaN                   NaN                       NaN   \n",
       "5027                  NaN                   NaN                       NaN   \n",
       "\n",
       "     Retail_Product_Level2Name Retail_Product_Level3Name  \\\n",
       "2507                        CY                       CYA   \n",
       "155                         C7                       C7A   \n",
       "3285                       NaN                       NaN   \n",
       "782                         CJ                       CJA   \n",
       "3021                        HZ                       HZA   \n",
       "1794                        C6                       C6A   \n",
       "2778                        CY                       CYA   \n",
       "4433                       NaN                       NaN   \n",
       "5162                       NaN                       NaN   \n",
       "5027                       NaN                       NaN   \n",
       "\n",
       "     Retail_Product_Level4Name                       Retail_Product_Name  \\\n",
       "2507                      CYAD  SHORT JEANS CRN SLO INK BARRA CHUVEIRINH   \n",
       "155                       C7AT  SOUTIEN TG P1 RENDA BCA ADA 48 BRANCO CL   \n",
       "3285                       NaN                                       NaN   \n",
       "782                       CJAT   SOUTIEN  SNS SLO PUSH UP RENDA VERMELHO   \n",
       "3021                      HZAI    RELOGIO M P3 ORIENT PTA MBSS1154A G2SX   \n",
       "1794                      C6AB  3 CALCINHAS APP TRS BIQUINI REF 51509 K2   \n",
       "2778                      CYAA  CALCA JEANS  BIO MARCA DE TERCEIROS Skin   \n",
       "4433                       NaN                                       NaN   \n",
       "5162                       NaN                                       NaN   \n",
       "5027                       NaN                                       NaN   \n",
       "\n",
       "      Retail_Product_SKU Retail_Product_Size Retail_Product_Style  \\\n",
       "2507        9.392570e+09                  40   BOTTOM CURTO JEANS   \n",
       "155         9.458340e+09                  48        SOUTIEN / TOP   \n",
       "3285        9.258850e+09                 NaN                  NaN   \n",
       "782         8.222160e+09                  42        SOUTIEN / TOP   \n",
       "3021        8.327520e+09                 NaN      MASCULINO PRATA   \n",
       "1794        8.878390e+09                  GG    CALCINHA / BOTTOM   \n",
       "2778        9.663590e+09                  46          CALÇA JEANS   \n",
       "4433        9.540790e+09                 NaN                  NaN   \n",
       "5162        9.695220e+09                 NaN                  NaN   \n",
       "5027        9.657060e+09                 NaN                  NaN   \n",
       "\n",
       "      Retail_SOHQTY  Retail_CCQTY      _merge  diff  unders  \n",
       "2507              6             0   left_only    -6       6  \n",
       "155               4             1        both    -3       3  \n",
       "3285              0             2  right_only     2       0  \n",
       "782               1             0   left_only    -1       1  \n",
       "3021              3             3        both     0       0  \n",
       "1794              2             1        both    -1       1  \n",
       "2778              1             0   left_only    -1       1  \n",
       "4433              0             1  right_only     1       0  \n",
       "5162              0             1  right_only     1       0  \n",
       "5027              0             3  right_only     3       0  "
      ]
     },
     "execution_count": 23,
     "metadata": {},
     "output_type": "execute_result"
    }
   ],
   "source": [
    "new_df.sample(10)"
   ]
  },
  {
   "cell_type": "code",
   "execution_count": 24,
   "metadata": {
    "id": "AZZMLRXUjKdl"
   },
   "outputs": [],
   "source": [
    "new_df.to_csv('inventory_discrepancy.csv')"
   ]
  }
 ],
 "metadata": {
  "colab": {
   "name": "ALDAIR MENDOZA -  TEMPLATE_Bootcamp2.0.ipynb",
   "provenance": []
  },
  "kernelspec": {
   "display_name": "Python 3 (ipykernel)",
   "language": "python",
   "name": "python3"
  },
  "language_info": {
   "codemirror_mode": {
    "name": "ipython",
    "version": 3
   },
   "file_extension": ".py",
   "mimetype": "text/x-python",
   "name": "python",
   "nbconvert_exporter": "python",
   "pygments_lexer": "ipython3",
   "version": "3.10.4"
  }
 },
 "nbformat": 4,
 "nbformat_minor": 1
}
